{
 "cells": [
  {
   "cell_type": "code",
   "execution_count": 3,
   "id": "96408291-c918-4a3b-b06b-120680d27f51",
   "metadata": {},
   "outputs": [],
   "source": [
    "work_days_2024_before_20240901=168\n",
    "vacations_2024_before_20240901=20"
   ]
  },
  {
   "cell_type": "code",
   "execution_count": 5,
   "id": "13e66a4f-aa11-4b7e-9786-35ee065001ca",
   "metadata": {},
   "outputs": [
    {
     "data": {
      "text/plain": [
       "148"
      ]
     },
     "execution_count": 5,
     "metadata": {},
     "output_type": "execute_result"
    }
   ],
   "source": [
    "days_worked_2024_before_20240901=work_days_2024_before_20240901-vacations_2024_before_20240901\n",
    "days_worked_2024_before_20240901"
   ]
  },
  {
   "cell_type": "code",
   "execution_count": 6,
   "id": "37e42010-cd71-47c2-9108-ab890c6c86f2",
   "metadata": {},
   "outputs": [],
   "source": [
    "work_days_2024_after_20240901=84\n",
    "vacations_2024_after_20240901=10"
   ]
  },
  {
   "cell_type": "code",
   "execution_count": 9,
   "id": "f8e5cca9-bd28-4e26-8691-7aa96ead98b7",
   "metadata": {},
   "outputs": [
    {
     "data": {
      "text/plain": [
       "74"
      ]
     },
     "execution_count": 9,
     "metadata": {},
     "output_type": "execute_result"
    }
   ],
   "source": [
    "days_worked_2024_after_20240901=work_days_2024_after_20240901-vacations_2024_after_20240901\n",
    "days_worked_2024_after_20240901"
   ]
  },
  {
   "cell_type": "code",
   "execution_count": 12,
   "id": "38af03c3-ddf0-4146-bde1-20a85f9ce8e9",
   "metadata": {},
   "outputs": [
    {
     "data": {
      "text/plain": [
       "44"
      ]
     },
     "execution_count": 12,
     "metadata": {},
     "output_type": "execute_result"
    }
   ],
   "source": [
    "office_days_2024_after_20240901=int(days_worked_2024_after_20240901*3/5)\n",
    "office_days_2024_after_20240901"
   ]
  },
  {
   "cell_type": "code",
   "execution_count": 14,
   "id": "97c93f41-e984-4bec-ba98-3d3077acd631",
   "metadata": {},
   "outputs": [
    {
     "data": {
      "text/plain": [
       "30"
      ]
     },
     "execution_count": 14,
     "metadata": {},
     "output_type": "execute_result"
    }
   ],
   "source": [
    "home_office_days_2024_after_20240901=days_worked_2024_after_20240901-office_days_2024_after_20240901\n",
    "home_office_days_2024_after_20240901"
   ]
  },
  {
   "cell_type": "code",
   "execution_count": 16,
   "id": "9f8ea6f8-8894-47a5-9f75-ea95d9426a39",
   "metadata": {},
   "outputs": [
    {
     "data": {
      "text/plain": [
       "178"
      ]
     },
     "execution_count": 16,
     "metadata": {},
     "output_type": "execute_result"
    }
   ],
   "source": [
    "home_office_days_2024_total=days_worked_2024_before_20240901+home_office_days_2024_after_20240901\n",
    "home_office_days_2024_total"
   ]
  },
  {
   "cell_type": "code",
   "execution_count": 5,
   "id": "25482868-15da-40b2-b391-17356a5f7507",
   "metadata": {},
   "outputs": [
    {
     "data": {
      "text/plain": [
       "1807.81"
      ]
     },
     "execution_count": 5,
     "metadata": {},
     "output_type": "execute_result"
    }
   ],
   "source": [
    "eschb_kaltmiet=1477.81\n",
    "eschb_betriebskosten=330\n",
    "eschb_warmmiet=eschb_kaltmiet+eschb_betriebskosten\n",
    "eschb_warmmiet"
   ]
  },
  {
   "cell_type": "code",
   "execution_count": 7,
   "id": "b5516691-9cb8-4592-996b-40e837926011",
   "metadata": {},
   "outputs": [
    {
     "data": {
      "text/plain": [
       "75.0"
      ]
     },
     "execution_count": 7,
     "metadata": {},
     "output_type": "execute_result"
    }
   ],
   "source": [
    "eschb_gesamtmiet=1882.81\n",
    "esch_parkmiet=eschb_gesamtmiet-eschb_warmmiet\n",
    "esch_parkmiet"
   ]
  },
  {
   "cell_type": "code",
   "execution_count": 3,
   "id": "7f16cf20-dee0-4cef-9878-1b539741f703",
   "metadata": {},
   "outputs": [],
   "source": [
    "esch_hn_flaeche=4324.53\n",
    "esch_unser_flaeche=99.65"
   ]
  },
  {
   "cell_type": "code",
   "execution_count": null,
   "id": "19caea12",
   "metadata": {},
   "outputs": [
    {
     "data": {
      "text/plain": [
       "320.269583052956"
      ]
     },
     "execution_count": 4,
     "metadata": {},
     "output_type": "execute_result"
    }
   ],
   "source": [
    "eschb_hausmeister_gesmt_2023=13898.80\n",
    "eschb_hausmeister_unser_2023=eschb_hausmeister_gesmt_2023*esch_unser_flaeche/esch_hn_flaeche\n",
    "eschb_hausmeister_unser_2023"
   ]
  }
 ],
 "metadata": {
  "kernelspec": {
   "display_name": "Python 3",
   "language": "python",
   "name": "python3"
  },
  "language_info": {
   "codemirror_mode": {
    "name": "ipython",
    "version": 3
   },
   "file_extension": ".py",
   "mimetype": "text/x-python",
   "name": "python",
   "nbconvert_exporter": "python",
   "pygments_lexer": "ipython3",
   "version": "3.13.0"
  }
 },
 "nbformat": 4,
 "nbformat_minor": 5
}
